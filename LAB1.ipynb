{
  "nbformat": 4,
  "nbformat_minor": 0,
  "metadata": {
    "colab": {
      "provenance": [],
      "collapsed_sections": [
        "h_ScoqlnLr5k",
        "tJNM-fWxJs_m",
        "z6HRQkBnKL_d",
        "dfjnj6asKN3L",
        "jO38HA2nKN6e",
        "DUZk0hlaJa3H",
        "_I0tLBbuLr57",
        "TtOgyiYVLr59"
      ],
      "toc_visible": true
    },
    "kernelspec": {
      "name": "python3",
      "display_name": "Python 3"
    },
    "language_info": {
      "name": "python"
    }
  },
  "cells": [
    {
      "cell_type": "code",
      "execution_count": null,
      "metadata": {
        "id": "mkIvhWDEIwOE"
      },
      "outputs": [],
      "source": [
        "from google.colab import drive\n",
        "drive.mount('/content/drive')"
      ]
    },
    {
      "cell_type": "code",
      "source": [
        "def simple_interest(p,t,r):\n",
        "  print(\"Principal: \"+str(p),\"Time Period: \"+str(t),\"Rate of Interest: \"+str(r),sep=\"\\n\")\n",
        "  print(\"Simple interest:\",p*t*r/100)\n"
      ],
      "metadata": {
        "id": "n-9WIaN_Lv-Y"
      },
      "execution_count": null,
      "outputs": []
    },
    {
      "cell_type": "code",
      "source": [
        "simple_interest(1000,1,2)"
      ],
      "metadata": {
        "id": "2TV4ePvTMhrR"
      },
      "execution_count": null,
      "outputs": []
    },
    {
      "cell_type": "markdown",
      "source": [
        "### 1. Generate a tuple from the set [\"aman\", \"222\", 777, 400.4] "
      ],
      "metadata": {
        "id": "h_ScoqlnLr5k"
      }
    },
    {
      "cell_type": "code",
      "source": [
        "a1=tuple([\"aman\",\"222\",777,400.4])\n",
        "print(a1)"
      ],
      "metadata": {
        "colab": {
          "base_uri": "https://localhost:8080/"
        },
        "id": "Cf2G4QWELr57",
        "outputId": "687e0b88-dc63-4e42-984f-420a6d7d02f1"
      },
      "execution_count": null,
      "outputs": [
        {
          "output_type": "stream",
          "name": "stdout",
          "text": [
            "('aman', '222', 777, 400.4)\n"
          ]
        }
      ]
    },
    {
      "cell_type": "markdown",
      "source": [
        "### 2. Create a dictionary of your basic data : (a) Roll No (b) Last Name (c) First Name (d) Date of birth. Print out the values and keys."
      ],
      "metadata": {
        "id": "tJNM-fWxJs_m"
      }
    },
    {
      "cell_type": "code",
      "source": [
        "d2={\"rollno\": \"CB.EN.U4CSE20216\",\"lname\": \"Penugonda\",\"fname\": \"Dhanush\",\"dob\": \"04-03-2003\"}\n",
        "print(d2)"
      ],
      "metadata": {
        "colab": {
          "base_uri": "https://localhost:8080/"
        },
        "id": "j3KBn3cALIUE",
        "outputId": "155e9bad-e1aa-46f7-8c50-ebfca89ecf48"
      },
      "execution_count": null,
      "outputs": [
        {
          "output_type": "stream",
          "name": "stdout",
          "text": [
            "{'rollno': 'CB.EN.U4CSE20216', 'lname': 'Penugonda', 'fname': 'Dhanush', 'dob': '04-03-2003'}\n"
          ]
        }
      ]
    },
    {
      "cell_type": "markdown",
      "source": [
        "### 3. Use rand function to generate a 2-dimensional random array with seed."
      ],
      "metadata": {
        "id": "z6HRQkBnKL_d"
      }
    },
    {
      "cell_type": "code",
      "source": [
        "import random\n"
      ],
      "metadata": {
        "id": "EDikU7tsLJDI"
      },
      "execution_count": null,
      "outputs": []
    },
    {
      "cell_type": "markdown",
      "source": [
        "### 4. Generate a single random number in [0.0, 1.0]. Find the absolute value of (-1234)"
      ],
      "metadata": {
        "id": "dfjnj6asKN3L"
      }
    },
    {
      "cell_type": "code",
      "source": [
        "print(round(random.uniform(0.1, 1.0), 10))\n",
        "print(abs(-1234))"
      ],
      "metadata": {
        "id": "zmcRL_URLKVB",
        "colab": {
          "base_uri": "https://localhost:8080/"
        },
        "outputId": "ece8942c-67a3-4886-95fe-51775149aeb8"
      },
      "execution_count": null,
      "outputs": [
        {
          "output_type": "stream",
          "name": "stdout",
          "text": [
            "0.7036591799\n",
            "1234\n"
          ]
        }
      ]
    },
    {
      "cell_type": "markdown",
      "source": [
        "### 5. Return a random integer N such that 20 <= N <= 90."
      ],
      "metadata": {
        "id": "jO38HA2nKN6e"
      }
    },
    {
      "cell_type": "code",
      "source": [
        "import random \n",
        "print(random.randint(20,91))"
      ],
      "metadata": {
        "colab": {
          "base_uri": "https://localhost:8080/"
        },
        "id": "3KOR2WKuJtol",
        "outputId": "e1406142-eed8-497b-ff51-2592c5cb854b"
      },
      "execution_count": null,
      "outputs": [
        {
          "output_type": "stream",
          "name": "stdout",
          "text": [
            "33\n"
          ]
        }
      ]
    },
    {
      "cell_type": "markdown",
      "source": [
        "### 6. Given a population or set[11, 12, 13,14, 15]\n",
        "\n",
        "o Return a 3 length list of unique elements without replacement.\n",
        "\n",
        "o Shuffle the above set\n",
        "\n",
        "o Print a random number from the set"
      ],
      "metadata": {
        "id": "DUZk0hlaJa3H"
      }
    },
    {
      "cell_type": "code",
      "source": [
        "a6=[11,12,13,14,15]\n",
        "print(a6[:3])\n",
        "print(a6[random.randint(0,5)])"
      ],
      "metadata": {
        "colab": {
          "base_uri": "https://localhost:8080/"
        },
        "id": "iSOTB-X6LQlq",
        "outputId": "13cd06b5-2932-4b09-fd46-87da731c2c9e"
      },
      "execution_count": null,
      "outputs": [
        {
          "output_type": "stream",
          "name": "stdout",
          "text": [
            "[11, 12, 13]\n",
            "11\n"
          ]
        }
      ]
    },
    {
      "cell_type": "markdown",
      "source": [
        "### 7. Write the text \"The King is Dead, Long Live The King\" on to a file in your hard drive; read and print the text."
      ],
      "metadata": {
        "id": "_I0tLBbuLr57"
      }
    },
    {
      "cell_type": "code",
      "source": [
        "file=open(\"test.txt\",\"w\")\n",
        "file.write(\"The King is Dead, Long Live The King\")\n",
        "file.close()\n",
        "file=open(\"test.txt\",\"r\")\n",
        "for i in file:\n",
        "  print(i,end=\" \")"
      ],
      "metadata": {
        "id": "l-6ryRL9Lr58"
      },
      "execution_count": null,
      "outputs": []
    },
    {
      "cell_type": "markdown",
      "source": [
        "### 8. Create an illustrative function to demonstrate use of: if, elif and else (b) for, while, break and continue."
      ],
      "metadata": {
        "id": "TtOgyiYVLr59"
      }
    },
    {
      "cell_type": "code",
      "source": [
        "def compare(a,b):\n",
        "  if a>b:\n",
        "    print(\"A greater than B\")\n",
        "  elif a<b:\n",
        "    print(\"A less than B\")\n",
        "  else:\n",
        "    print(\"A equal to B\")\n",
        "compare(2,3)"
      ],
      "metadata": {
        "id": "5Zv5KQXmLr59",
        "colab": {
          "base_uri": "https://localhost:8080/"
        },
        "outputId": "17583fa2-0174-408e-9b94-b38d8e8fb486"
      },
      "execution_count": null,
      "outputs": [
        {
          "output_type": "stream",
          "name": "stdout",
          "text": [
            "A less than B\n"
          ]
        }
      ]
    },
    {
      "cell_type": "markdown",
      "source": [
        "### 9. Given a string \"The King is Dead, Long Live The King\"\n",
        "\n",
        "o Print the complete string\n",
        "\n",
        "o Print first character of the string\n",
        "\n",
        "o Print characters starting from 3rd to 5th\n",
        "\n",
        "o Print string starting from 3rd character\n",
        "\n",
        "o Split the words"
      ],
      "metadata": {
        "id": "dMt6czgGLr59"
      }
    },
    {
      "cell_type": "code",
      "source": [
        "s=\"The King is Dead, Long Live The King\"\n",
        "print(s)\n",
        "print(s[0])\n",
        "print(s[2:5])\n",
        "print(s[2:])\n",
        "print(s.split())"
      ],
      "metadata": {
        "id": "KxuQN2trLr5-"
      },
      "execution_count": null,
      "outputs": []
    },
    {
      "cell_type": "markdown",
      "source": [
        "### 10. An array can be created from a list: Create an array from a list comprising of numbers 1,4,5,8 (treat them as floats).Slice the above array to display first and second elements"
      ],
      "metadata": {
        "id": "fIewnNEWLr5-"
      }
    },
    {
      "cell_type": "code",
      "source": [
        "a10=[1,4,5,8]\n",
        "print(a10[:2])"
      ],
      "metadata": {
        "id": "O11a2MehLr6A"
      },
      "execution_count": null,
      "outputs": []
    },
    {
      "cell_type": "markdown",
      "source": [
        "### 11. Arrays can be multidimensional. Create a two-dimensional array of (1,2,3) and (4,5,6)."
      ],
      "metadata": {
        "id": "uQr-cJEKROFD"
      }
    },
    {
      "cell_type": "code",
      "source": [
        "import numpy as np\n",
        "arr=np.array([[1,2,3],[4,5,6]])\n",
        "print(arr)"
      ],
      "metadata": {
        "id": "mQkibY29ROFS"
      },
      "execution_count": null,
      "outputs": []
    },
    {
      "cell_type": "markdown",
      "source": [
        "### 12. Array slicing works with multiple dimensions in the same way as usual, applying each slice specification as a filter to a specified dimension. Consider two-dimensional array of (1,2,3) and (4,5,6).\n",
        "\n",
        "o Slice and display the 2nd row.\n",
        "\n",
        "o Write code to display as array([2., 5.])\n",
        "\n",
        "o Find the length of the array."
      ],
      "metadata": {
        "id": "HZ-RYUs5ROFS"
      }
    },
    {
      "cell_type": "code",
      "source": [
        "print(arr[1])\n",
        "print(arr[0][1],arr[1][1])\n",
        "print(len(arr))"
      ],
      "metadata": {
        "id": "liff4fmaROFS"
      },
      "execution_count": null,
      "outputs": []
    },
    {
      "cell_type": "markdown",
      "source": [
        "### 13. Arrays can be reshaped using tuples that specify new dimensions. Turn a ten-element one-dimensional array into a two-dimensional one whose first axis has five elements and whose second axis has two elements. Obtain the transpose of the array"
      ],
      "metadata": {
        "id": "j0HAtV3JROFT"
      }
    },
    {
      "cell_type": "code",
      "source": [
        "ar=np.array([1,2,3,4,5,6,7,8,9,0])\n",
        "print(ar)\n",
        "ar=ar.reshape(2,5)\n",
        "print(ar)"
      ],
      "metadata": {
        "id": "q6reQRuNROFT"
      },
      "execution_count": null,
      "outputs": []
    },
    {
      "cell_type": "markdown",
      "source": [
        "### 14. Create an array from a list of 1,2 and 3."
      ],
      "metadata": {
        "id": "YzoCLQbhROFT"
      }
    },
    {
      "cell_type": "code",
      "source": [],
      "metadata": {
        "id": "HKBNEvXsROFU"
      },
      "execution_count": null,
      "outputs": []
    },
    {
      "cell_type": "markdown",
      "source": [
        "### 15. Fill an array [1,2,3] with a single value [9,9,9]."
      ],
      "metadata": {
        "id": "CXQnfESpROFU"
      }
    },
    {
      "cell_type": "code",
      "source": [
        "a15=[1,2,3]\n",
        "a15=np.full((3),9)\n",
        "print(a15)"
      ],
      "metadata": {
        "id": "ur2sPQJaROFU"
      },
      "execution_count": null,
      "outputs": []
    },
    {
      "cell_type": "markdown",
      "source": [
        "### 16. Sum the elements of array [2,4,5]."
      ],
      "metadata": {
        "id": "m6gXO1d6ROFU"
      }
    },
    {
      "cell_type": "code",
      "source": [
        "a16=[2,4,5]\n",
        "print(sum(a16))"
      ],
      "metadata": {
        "id": "h3kEQBAGROFU"
      },
      "execution_count": null,
      "outputs": []
    },
    {
      "cell_type": "markdown",
      "source": [
        "### 17. Give the products of array [77,74,75]"
      ],
      "metadata": {
        "id": "KqpsLxFtROFV"
      }
    },
    {
      "cell_type": "code",
      "source": [
        "a17=[77,74,75]\n",
        "prod=1\n",
        "for i in a17:\n",
        "  prod*=i\n",
        "print(prod)"
      ],
      "metadata": {
        "id": "gpoUvCGuROFV"
      },
      "execution_count": null,
      "outputs": []
    },
    {
      "cell_type": "markdown",
      "source": [
        "### 18. Given an array [2,1,9,1,2,22,1,1,4,55,6,2,56]. Find mean, variance, max, min, argmin, median, argmax and standard deviation."
      ],
      "metadata": {
        "id": "O1TFphJ-ROFV"
      }
    },
    {
      "cell_type": "code",
      "source": [
        "from scipy import stats\n",
        "a18=np.array([2,1,9,1,2,22,1,1,4,55,6,2,56])\n",
        "print(\"Mean=\",np.mean(a18))\n",
        "print(\"Median=\",np.median(a18))\n",
        "print(\"Mode=\",stats.mode(a18))\n",
        "print(\"Max=\",max(a18))\n",
        "print(\"Min=\",min(a18))\n"
      ],
      "metadata": {
        "id": "QLYQoT-JROFV"
      },
      "execution_count": null,
      "outputs": []
    },
    {
      "cell_type": "markdown",
      "source": [
        "### 19. Extract unique elements from an array: [1, 1, 4, 5, 5, 5, 7] and sort it. "
      ],
      "metadata": {
        "id": "RJAlUybPROFV"
      }
    },
    {
      "cell_type": "code",
      "source": [
        "a19=[1, 1, 4, 5, 5, 5, 7]\n",
        "a19=list(set(a19))\n",
        "a19.sort()\n",
        "print(a19)"
      ],
      "metadata": {
        "id": "4xL-AdGXROFW"
      },
      "execution_count": null,
      "outputs": []
    },
    {
      "cell_type": "markdown",
      "source": [
        "### 20. Find dot product of two arrays [1, 2, 3]and [0, 1, 1]."
      ],
      "metadata": {
        "id": "xHhx3ZbIROFW"
      }
    },
    {
      "cell_type": "code",
      "source": [
        "a20=[1,2,3]\n",
        "b20=[0,1,1]\n",
        "print(np.dot(a20,b20))"
      ],
      "metadata": {
        "id": "yhqTyeZHROFW"
      },
      "execution_count": null,
      "outputs": []
    },
    {
      "cell_type": "markdown",
      "source": [
        "### 21. Find the eigenvalues and eigenvectors of matrix A."
      ],
      "metadata": {
        "id": "6zT1P4HPPUd_"
      }
    },
    {
      "cell_type": "code",
      "source": [
        "a21=[[2,-12],[1,-5]]\n",
        "x,y=np.linalg.eig(a21)\n",
        "print(x,y)"
      ],
      "metadata": {
        "id": "3lh7awqCPUeH"
      },
      "execution_count": null,
      "outputs": []
    },
    {
      "cell_type": "markdown",
      "source": [
        "### 22. Given an array with [11, 22, 11, 31], [25, 33, 31, 28]]. Treat as floats. Find the correlation coefficients."
      ],
      "metadata": {
        "id": "BiG36nPZPUeH"
      }
    },
    {
      "cell_type": "code",
      "source": [
        "a22=[[11, 22, 11, 31], [25, 33, 31, 28]]\n",
        "print(np.corrcoef(a22))"
      ],
      "metadata": {
        "id": "K2EqA_mFPUeH"
      },
      "execution_count": null,
      "outputs": []
    }
  ]
}