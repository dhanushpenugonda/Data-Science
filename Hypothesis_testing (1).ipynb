{
  "nbformat": 4,
  "nbformat_minor": 0,
  "metadata": {
    "colab": {
      "provenance": []
    },
    "kernelspec": {
      "name": "python3",
      "display_name": "Python 3"
    },
    "language_info": {
      "name": "python"
    }
  },
  "cells": [
    {
      "cell_type": "markdown",
      "source": [
        "From the given dataset, we found that the average rating of the top 1000 movies of the IMDB list is seen to be 7.9493. A data analyst claims that the average rating of Adult rated films has increased. Average of the A rated films is 7.998, the standard deviation of the population is 0.275 and number 0of adult rated movies is 197. Assume alpha to be 0.05."
      ],
      "metadata": {
        "id": "ek8Gpj16sY7D"
      }
    },
    {
      "cell_type": "markdown",
      "source": [
        "Null Hypothesis: Average rating of A rated films is more than 7.949.<br>\n",
        "Alternative Hypothesis: Average rating of A rated films is less than or equal to 7.949. <br>"
      ],
      "metadata": {
        "id": "6TTTv663wzv3"
      }
    },
    {
      "cell_type": "code",
      "source": [
        "import scipy.stats as st\n",
        "import numpy as np"
      ],
      "metadata": {
        "id": "dQLCZz4qxnN5"
      },
      "execution_count": 1,
      "outputs": []
    },
    {
      "cell_type": "code",
      "execution_count": 2,
      "metadata": {
        "id": "nMCRwUFOea24"
      },
      "outputs": [],
      "source": [
        "mu = 7.9493\n",
        "x_bar = 7.998\n",
        "sigma = 0.275\n",
        "n = 197\n",
        "alpha = 0.05"
      ]
    },
    {
      "cell_type": "code",
      "source": [
        "# Calculating z critical value\n",
        "z_critical = st.norm.ppf(alpha)\n",
        "print(f'z-critical value is {z_critical}')"
      ],
      "metadata": {
        "colab": {
          "base_uri": "https://localhost:8080/"
        },
        "id": "Ido232kmxfXz",
        "outputId": "4530a174-bdd5-44ef-cb69-1e1d5dc1ce8e"
      },
      "execution_count": 3,
      "outputs": [
        {
          "output_type": "stream",
          "name": "stdout",
          "text": [
            "z-critical value is -1.6448536269514729\n"
          ]
        }
      ]
    },
    {
      "cell_type": "code",
      "source": [
        "# Test statistic calculation\n",
        "z = (x_bar - mu)/(sigma/np.sqrt(n))\n",
        "print(f'Test statistic is {z}')"
      ],
      "metadata": {
        "colab": {
          "base_uri": "https://localhost:8080/"
        },
        "id": "hL49UW-dyI7D",
        "outputId": "16a49dd3-fc92-4dfa-837b-a8241ce8602f"
      },
      "execution_count": 4,
      "outputs": [
        {
          "output_type": "stream",
          "name": "stdout",
          "text": [
            "Test statistic is 2.485589355923669\n"
          ]
        }
      ]
    },
    {
      "cell_type": "code",
      "source": [
        "if z < z_critical:\n",
        "  print(\"Reject the null hypothesis.\")\n",
        "else:\n",
        "  print(\"Fail to reject the null hypothesis.\")"
      ],
      "metadata": {
        "colab": {
          "base_uri": "https://localhost:8080/"
        },
        "id": "R12lXbEUy-at",
        "outputId": "ab604ad6-daef-4831-b348-15022fbebe04"
      },
      "execution_count": 5,
      "outputs": [
        {
          "output_type": "stream",
          "name": "stdout",
          "text": [
            "Fail to reject the null hypothesis.\n"
          ]
        }
      ]
    },
    {
      "cell_type": "markdown",
      "source": [
        "The calculated z-score value is in the critical region and so we reject the null hypothesis that the average rating of A rated movies is greater than 7.9493. "
      ],
      "metadata": {
        "id": "RdOf5glazWEz"
      }
    }
  ]
}